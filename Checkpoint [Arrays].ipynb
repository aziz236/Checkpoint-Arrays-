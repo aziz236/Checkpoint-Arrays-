{
 "cells": [
  {
   "cell_type": "code",
   "execution_count": 1,
   "id": "796c0464",
   "metadata": {},
   "outputs": [
    {
     "name": "stdout",
     "output_type": "stream",
     "text": [
      "[[1, 2], [3, 4], [5, 5]]\n"
     ]
    }
   ],
   "source": [
    "#Question 1\n",
    "import numpy as np\n",
    "new_array=np.array([[1,2],[3,4],[5,5]])\n",
    "new_list=new_array.tolist()\n",
    "print(new_list)"
   ]
  },
  {
   "cell_type": "code",
   "execution_count": 30,
   "id": "f843bbde",
   "metadata": {},
   "outputs": [
    {
     "name": "stdout",
     "output_type": "stream",
     "text": [
      "[[4 3 5]\n",
      " [6 7 4]\n",
      " [2 5 7]] \n",
      " sum of the diagonal elements is: 32\n"
     ]
    }
   ],
   "source": [
    "#Question 2\n",
    "import numpy as np\n",
    "a=np.random.randint(1,9,size=(3,3))\n",
    "i=0\n",
    "c=-1\n",
    "sum=0\n",
    "while i<len(a):\n",
    "  sum+=a[i,i]\n",
    "  sum+=a[c,i]\n",
    "  i+=1\n",
    "  c+=-1\n",
    "print(a,'\\n',\"sum of the diagonal elements is:\",sum)"
   ]
  },
  {
   "cell_type": "code",
   "execution_count": 11,
   "id": "787c8c26",
   "metadata": {},
   "outputs": [
    {
     "name": "stdout",
     "output_type": "stream",
     "text": [
      "x= 0\n",
      "the numbers higher than x are: [1, 2, 3, 5]\n"
     ]
    }
   ],
   "source": [
    "#Question 3\n",
    "import numpy as np\n",
    "x=np.random.randint(0,9)\n",
    "a=np.array([[1,2],[3,5]])\n",
    "i=0\n",
    "result=list()\n",
    "print('x=',x)\n",
    "while i<len(a):\n",
    "  b=0\n",
    "  while b<len(a[i]):\n",
    "    if a[i,b]>=x:\n",
    "      result.append(a[i,b])\n",
    "    b=b+1\n",
    "  i+=1\n",
    "print(\"the numbers higher than x are:\",result)"
   ]
  },
  {
   "cell_type": "code",
   "execution_count": 5,
   "id": "6f2a31b1",
   "metadata": {},
   "outputs": [
    {
     "name": "stdout",
     "output_type": "stream",
     "text": [
      "array 1: [[4 2 0 0]\n",
      " [4 2 5 8]] \n",
      "\n",
      " array 2: [[2 1 3 1]\n",
      " [4 7 1 8]] \n",
      "\n",
      " sum: [[ 6  3  3  1]\n",
      " [ 8  9  6 16]]\n"
     ]
    }
   ],
   "source": [
    "#Question 4\n",
    "import numpy as np\n",
    "a=np.random.randint(0,9,size=(2,4))\n",
    "b=np.random.randint(0,9,size=(2,4))\n",
    "c=a+b\n",
    "print(\"array 1:\",a,'\\n\\n',\"array 2:\",b,'\\n\\n',\"sum:\",c)"
   ]
  },
  {
   "cell_type": "code",
   "execution_count": null,
   "id": "9b112b61",
   "metadata": {},
   "outputs": [],
   "source": [
    "#Question 5import numpy as np\n",
    "matrix=np.random.randint(0,9,size=(3,3))\n",
    "print(matrix)\n",
    "for i in matrix:\n",
    "  print(np.mean(i))\n",
    "\n"
   ]
  }
 ],
 "metadata": {
  "kernelspec": {
   "display_name": "Python 3",
   "language": "python",
   "name": "python3"
  },
  "language_info": {
   "codemirror_mode": {
    "name": "ipython",
    "version": 3
   },
   "file_extension": ".py",
   "mimetype": "text/x-python",
   "name": "python",
   "nbconvert_exporter": "python",
   "pygments_lexer": "ipython3",
   "version": "3.8.8"
  }
 },
 "nbformat": 4,
 "nbformat_minor": 5
}
